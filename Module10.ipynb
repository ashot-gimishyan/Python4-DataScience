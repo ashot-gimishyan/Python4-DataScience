{
 "cells": [
  {
   "cell_type": "code",
   "execution_count": 8,
   "id": "5aaf0173",
   "metadata": {},
   "outputs": [
    {
     "name": "stdout",
     "output_type": "stream",
     "text": [
      "Задача 1. Тестовое задание\n",
      "6\n",
      "0 \t2 \t4 \t6 \t8 \t10 \t\n",
      "1 \t3 \t5 \t7 \t9 \t11 \t\n",
      "2 \t4 \t6 \t8 \t10 \t12 \t\n",
      "3 \t5 \t7 \t9 \t11 \t13 \t\n",
      "4 \t6 \t8 \t10 \t12 \t14 \t\n",
      "5 \t7 \t9 \t11 \t13 \t15 \t\n"
     ]
    }
   ],
   "source": [
    "print('Задача 1. Тестовое задание')\n",
    "\n",
    "n = int(input())\n",
    "\n",
    "k = 0\n",
    "for i in range(n):\n",
    "    k = i\n",
    "    for j in range(n):\n",
    "        print(k, '\\t', end='')\n",
    "        k += 2\n",
    "    print()\n",
    "        "
   ]
  },
  {
   "cell_type": "code",
   "execution_count": null,
   "id": "b4a1fe3d",
   "metadata": {},
   "outputs": [],
   "source": []
  },
  {
   "cell_type": "code",
   "execution_count": 17,
   "id": "4614d78a",
   "metadata": {},
   "outputs": [
    {
     "name": "stdout",
     "output_type": "stream",
     "text": [
      "Задача 2. Лестница\n",
      "5\n",
      "1  \n",
      "2  2  \n",
      "3  3  3  \n",
      "4  4  4  4  \n",
      "5  5  5  5  5  \n"
     ]
    }
   ],
   "source": [
    "print('Задача 2. Лестница')\n",
    "\n",
    "n = int(input())\n",
    "\n",
    "count = 0\n",
    "for i in range(n):\n",
    "    count += 1\n",
    "    for j in range(count):\n",
    "        print(count, ' ', end = '')\n",
    "    print()"
   ]
  },
  {
   "cell_type": "code",
   "execution_count": null,
   "id": "2344799b",
   "metadata": {},
   "outputs": [],
   "source": []
  },
  {
   "cell_type": "code",
   "execution_count": 30,
   "id": "9ad52034",
   "metadata": {},
   "outputs": [
    {
     "name": "stdout",
     "output_type": "stream",
     "text": [
      "Задача 3. Рамка\n",
      "9\n",
      "7\n",
      "_ _ _ _ _ _ _ _ _ _ \n",
      "|                  |\n",
      "|                  |\n",
      "|                  |\n",
      "|                  |\n",
      "|                  |\n",
      "|                  |\n",
      "|                  |\n",
      "|_ _ _ _ _ _ _ _ _ |\n"
     ]
    }
   ],
   "source": [
    "print('Задача 3. Рамка')\n",
    "\n",
    "\n",
    "width = int(input())\n",
    "height = int(input())\n",
    "\n",
    "\n",
    "start = (width + 1) * '_ '\n",
    "middle = '|' + 2* width * ' ' + '|'\n",
    "stop = '|' + width * '_ ' + '|'\n",
    "for i in range(height + 2):\n",
    "    if i == 0 :\n",
    "        print(start)\n",
    "    elif i == height + 1:\n",
    "        print(stop)\n",
    "        \n",
    "    else:\n",
    "        print(middle)\n",
    "\n"
   ]
  },
  {
   "cell_type": "code",
   "execution_count": null,
   "id": "591e4b5f",
   "metadata": {},
   "outputs": [],
   "source": []
  },
  {
   "cell_type": "code",
   "execution_count": 57,
   "id": "41ba2d59",
   "metadata": {},
   "outputs": [
    {
     "name": "stdout",
     "output_type": "stream",
     "text": [
      "Задача 4. Крест\n",
      "10\n",
      "^        ^\n",
      " ^      ^ \n",
      "  ^    ^  \n",
      "   ^  ^   \n",
      "    ^^    \n",
      "    ^^    \n",
      "   ^  ^   \n",
      "  ^    ^  \n",
      " ^      ^ \n",
      "^        ^\n"
     ]
    }
   ],
   "source": [
    "print('Задача 4. Крест')\n",
    "\n",
    "n = int(input())\n",
    "\n",
    "for i in range(n):\n",
    "    for j in range(n):\n",
    "        if i is j or i + j is n-1:\n",
    "            print('^', end = '')  \n",
    "        else:\n",
    "            print(' ', end = '')\n",
    "    print()"
   ]
  },
  {
   "cell_type": "code",
   "execution_count": 67,
   "id": "02d30dd0",
   "metadata": {},
   "outputs": [
    {
     "name": "stdout",
     "output_type": "stream",
     "text": [
      "Задача 5. Простые числа\n",
      "1 2 3 4 5 6\n",
      "3\n"
     ]
    }
   ],
   "source": [
    "print('Задача 5. Простые числа')\n",
    "\n",
    "\n",
    "lst = input().split(' ')\n",
    "lst = [int(i) for i in lst]\n",
    "\n",
    "count = 0\n",
    "for num in lst:\n",
    "    i = 2\n",
    "    while num % i != 0:\n",
    "        i += 1\n",
    "        if i > int(num**0.5):\n",
    "            count += 1\n",
    "            break\n",
    "            \n",
    "print(count)\n"
   ]
  },
  {
   "cell_type": "code",
   "execution_count": null,
   "id": "be51a867",
   "metadata": {},
   "outputs": [],
   "source": []
  },
  {
   "cell_type": "code",
   "execution_count": 76,
   "id": "fce02ce0",
   "metadata": {},
   "outputs": [
    {
     "name": "stdout",
     "output_type": "stream",
     "text": [
      "Задача 6. Сумма факториалов\n",
      "7\n",
      "5913\n"
     ]
    }
   ],
   "source": [
    "print('Задача 6. Сумма факториалов')\n",
    "\n",
    "n = int(input())\n",
    "\n",
    "mult = 1\n",
    "summ = 0\n",
    "count = 0\n",
    "\n",
    "for i in range(1, n+1):\n",
    "    count += 1\n",
    "    tmp = count\n",
    "    while tmp > 0:\n",
    "        mult *= tmp\n",
    "        tmp -= 1\n",
    "        \n",
    "    summ += mult\n",
    "    mult = 1\n",
    "    \n",
    "    \n",
    "print(summ)"
   ]
  },
  {
   "cell_type": "code",
   "execution_count": null,
   "id": "412241f4",
   "metadata": {},
   "outputs": [],
   "source": []
  },
  {
   "cell_type": "code",
   "execution_count": 83,
   "id": "126c32cf",
   "metadata": {},
   "outputs": [
    {
     "name": "stdout",
     "output_type": "stream",
     "text": [
      "Задача 7. Наибольшая сумма цифр\n",
      "5\n",
      "45\n",
      "65\n",
      "265\n",
      "2\n",
      "98\n",
      "98 17\n"
     ]
    }
   ],
   "source": [
    "print('Задача 7. Наибольшая сумма цифр')\n",
    "\n",
    "N = int(input())\n",
    "\n",
    "lst = list()\n",
    "\n",
    "for i in range(N):\n",
    "    lst.append(int(input()))\n",
    "\n",
    "\n",
    "max_sum = 0\n",
    "tmp_sum = 0\n",
    "max_n = 0\n",
    "\n",
    "for num in lst:\n",
    "    tmp_sum = 0\n",
    "    n_cp = num\n",
    "    while num > 0:\n",
    "        tmp_sum += num % 10\n",
    "        num //= 10\n",
    "        \n",
    "    if tmp_sum > max_sum:\n",
    "        max_sum = tmp_sum\n",
    "        max_n = n_cp\n",
    "        \n",
    "    \n",
    "print(max_n, max_sum)"
   ]
  },
  {
   "cell_type": "code",
   "execution_count": 86,
   "id": "de81b5ea",
   "metadata": {},
   "outputs": [
    {
     "name": "stdout",
     "output_type": "stream",
     "text": [
      "Задача 8. Пирамидка\n",
      "4\n",
      "   #   \n",
      "  ###  \n",
      " ##### \n",
      "#######\n"
     ]
    }
   ],
   "source": [
    "print('Задача 8. Пирамидка')\n",
    "\n",
    "h = int(input())\n",
    "\n",
    "for i in range(h):\n",
    "    rep = (h-i-1) * ' '\n",
    "    s = rep + (2* i + 1) * \"#\" + rep\n",
    "    print(s)"
   ]
  },
  {
   "cell_type": "code",
   "execution_count": null,
   "id": "58c170d1",
   "metadata": {},
   "outputs": [],
   "source": []
  },
  {
   "cell_type": "code",
   "execution_count": null,
   "id": "eb8b691a",
   "metadata": {},
   "outputs": [],
   "source": []
  },
  {
   "cell_type": "code",
   "execution_count": null,
   "id": "faae00d1",
   "metadata": {},
   "outputs": [],
   "source": [
    "print('Задача 9. Пирамидка 2')\n",
    "\n",
    "\n",
    "# Напишите программу,\n",
    "# которая получает на вход количество уровней пирамиды и выводит их на экран,\n",
    "\n",
    "# Пример:\n",
    "# \n",
    "#             1\n",
    "#          3     5\n",
    "#       7     9     11\n",
    "#    13    15    17    19\n",
    "# 21    23    25    27    29\n",
    "\n",
    "\n",
    "level = int(input())\n",
    "\n",
    "\n",
    "num = -1\n",
    "lst = list()\n",
    "\n",
    "count = 1\n",
    "n = 1\n",
    "\n",
    "p = False\n",
    "if level % 2 == 0:\n",
    "    level += 1\n",
    "    p = True\n",
    "    \n",
    "for i in range(level):\n",
    "    if p:\n",
    "        if i is level - 1:\n",
    "            break\n",
    "    if i % 2 == 0:\n",
    "        print((level - n)//2 * '\\t', end = '')\n",
    "    \n",
    "    flag = True\n",
    "    for j in range(n):\n",
    "        if i % 2 == 1:\n",
    "            if flag is True:\n",
    "                print((level - n)//2 * '\\t', end = '')\n",
    "                flag = False\n",
    "                \n",
    "            print( 3 * ' ', count, '\\t', end='')\n",
    "        else:\n",
    "            print(count, '\\t', end='')\n",
    "        count += 2\n",
    "        \n",
    "    n+= 1\n",
    "    print()\n",
    "\n"
   ]
  },
  {
   "cell_type": "code",
   "execution_count": null,
   "id": "eb976fb4",
   "metadata": {},
   "outputs": [],
   "source": []
  },
  {
   "cell_type": "code",
   "execution_count": null,
   "id": "cf2e8dca",
   "metadata": {},
   "outputs": [],
   "source": []
  },
  {
   "cell_type": "code",
   "execution_count": null,
   "id": "bf7edade",
   "metadata": {},
   "outputs": [],
   "source": []
  },
  {
   "cell_type": "code",
   "execution_count": 173,
   "id": "ce38bba0",
   "metadata": {},
   "outputs": [
    {
     "name": "stdout",
     "output_type": "stream",
     "text": [
      "Задача 10. Яма \n",
      "5\n",
      "5........5\n",
      "54......45\n",
      "543....345\n",
      "5432..2345\n",
      "5432112345\n"
     ]
    }
   ],
   "source": [
    "print('Задача 10. Яма ')\n",
    "\n",
    "\n",
    "# В одной компьютерной текстовой игре рисуются всяческие элементы ландшафта.\n",
    "#\n",
    "# Напишите программу,\n",
    "# которая получает на вход число N и выводит на экран числа в виде “ямы”:\n",
    "\n",
    "# Введите число: 5\n",
    "# \n",
    "# 5........5\n",
    "# 54......45\n",
    "# 543....345\n",
    "# 5432..2345\n",
    "# 5432112345\n",
    "\n",
    "n = int(input())\n",
    "\n",
    "for i in range(1, n + 1):\n",
    "    s = ''\n",
    "    for j in range(n, n - i, -1):\n",
    "          s += str(j)\n",
    "    print(s + '.' * (n * 2 - i * 2) + s[::-1])"
   ]
  },
  {
   "cell_type": "code",
   "execution_count": null,
   "id": "d50966b9",
   "metadata": {},
   "outputs": [],
   "source": []
  },
  {
   "cell_type": "code",
   "execution_count": null,
   "id": "a4e63145",
   "metadata": {},
   "outputs": [],
   "source": []
  },
  {
   "cell_type": "code",
   "execution_count": null,
   "id": "ff35c234",
   "metadata": {},
   "outputs": [],
   "source": []
  },
  {
   "cell_type": "code",
   "execution_count": null,
   "id": "1297d872",
   "metadata": {},
   "outputs": [],
   "source": []
  },
  {
   "cell_type": "code",
   "execution_count": null,
   "id": "3502240e",
   "metadata": {},
   "outputs": [],
   "source": []
  },
  {
   "cell_type": "code",
   "execution_count": null,
   "id": "e2ddd830",
   "metadata": {},
   "outputs": [],
   "source": []
  },
  {
   "cell_type": "code",
   "execution_count": null,
   "id": "2d854682",
   "metadata": {},
   "outputs": [],
   "source": []
  },
  {
   "cell_type": "code",
   "execution_count": null,
   "id": "909f6d9e",
   "metadata": {},
   "outputs": [],
   "source": []
  },
  {
   "cell_type": "code",
   "execution_count": null,
   "id": "84f6bdd7",
   "metadata": {},
   "outputs": [],
   "source": []
  },
  {
   "cell_type": "code",
   "execution_count": null,
   "id": "7af7ddea",
   "metadata": {},
   "outputs": [],
   "source": []
  },
  {
   "cell_type": "code",
   "execution_count": null,
   "id": "cbd8409c",
   "metadata": {},
   "outputs": [],
   "source": []
  },
  {
   "cell_type": "code",
   "execution_count": null,
   "id": "e481f9ac",
   "metadata": {},
   "outputs": [],
   "source": []
  },
  {
   "cell_type": "code",
   "execution_count": null,
   "id": "434722a3",
   "metadata": {},
   "outputs": [],
   "source": []
  },
  {
   "cell_type": "code",
   "execution_count": null,
   "id": "eed76611",
   "metadata": {},
   "outputs": [],
   "source": []
  },
  {
   "cell_type": "code",
   "execution_count": null,
   "id": "32f39aef",
   "metadata": {},
   "outputs": [],
   "source": []
  },
  {
   "cell_type": "code",
   "execution_count": null,
   "id": "b8d8f3ab",
   "metadata": {},
   "outputs": [],
   "source": []
  },
  {
   "cell_type": "code",
   "execution_count": null,
   "id": "6408b343",
   "metadata": {},
   "outputs": [],
   "source": []
  },
  {
   "cell_type": "code",
   "execution_count": null,
   "id": "48c3ebb5",
   "metadata": {},
   "outputs": [],
   "source": []
  },
  {
   "cell_type": "code",
   "execution_count": null,
   "id": "2253d7a9",
   "metadata": {},
   "outputs": [],
   "source": []
  },
  {
   "cell_type": "code",
   "execution_count": null,
   "id": "7538f7e4",
   "metadata": {},
   "outputs": [],
   "source": []
  },
  {
   "cell_type": "code",
   "execution_count": null,
   "id": "6b5eb9a1",
   "metadata": {},
   "outputs": [],
   "source": []
  }
 ],
 "metadata": {
  "kernelspec": {
   "display_name": "Python 3 (ipykernel)",
   "language": "python",
   "name": "python3"
  },
  "language_info": {
   "codemirror_mode": {
    "name": "ipython",
    "version": 3
   },
   "file_extension": ".py",
   "mimetype": "text/x-python",
   "name": "python",
   "nbconvert_exporter": "python",
   "pygments_lexer": "ipython3",
   "version": "3.9.7"
  }
 },
 "nbformat": 4,
 "nbformat_minor": 5
}

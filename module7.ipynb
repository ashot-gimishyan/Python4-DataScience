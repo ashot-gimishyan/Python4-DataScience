{
 "cells": [
  {
   "cell_type": "code",
   "execution_count": 1,
   "id": "057d6da6",
   "metadata": {},
   "outputs": [
    {
     "name": "stdout",
     "output_type": "stream",
     "text": [
      "Задача 1. Тайны археологии\n",
      "14\n"
     ]
    }
   ],
   "source": [
    "print('Задача 1. Тайны археологии')\n",
    "\n",
    "for num in 114, 12, 14, 10605, 4907, 450:\n",
    "    if (num % 2 == 0 and num % 3 != 0):\n",
    "        print(num)"
   ]
  },
  {
   "cell_type": "code",
   "execution_count": 4,
   "id": "0f75d818",
   "metadata": {},
   "outputs": [
    {
     "name": "stdout",
     "output_type": "stream",
     "text": [
      "Задача 2. Должники\n",
      "1\n",
      "2\n",
      "3\n",
      "4\n",
      "-1\n",
      "-2\n",
      "-3\n",
      "-4\n",
      "-5\n",
      "-8\n",
      "2\n"
     ]
    }
   ],
   "source": [
    "print('Задача 2. Должники')\n",
    "\n",
    "count = 0\n",
    "for i in range(10):\n",
    "    n = int(input())\n",
    "    if (n > 0 and n % 2 == 0):\n",
    "        count += 1\n",
    "print(count)"
   ]
  },
  {
   "cell_type": "code",
   "execution_count": 5,
   "id": "92eea9f9",
   "metadata": {},
   "outputs": [
    {
     "name": "stdout",
     "output_type": "stream",
     "text": [
      "Задача 3. Посчитай чужую зарплату...\n",
      "100\n",
      "200\n",
      "300\n",
      "400\n",
      "50\n",
      "5000\n",
      "4562\n",
      "23565\n",
      "563\n",
      "235\n",
      "6523\n",
      "652\n",
      "3512.5\n"
     ]
    }
   ],
   "source": [
    "print('Задача 3. Посчитай чужую зарплату...')\n",
    "\n",
    "summ = 0\n",
    "for i in range(12):\n",
    "    summ += int(input())\n",
    "    \n",
    "print(summ/12)"
   ]
  },
  {
   "cell_type": "code",
   "execution_count": 7,
   "id": "3175255e",
   "metadata": {},
   "outputs": [
    {
     "name": "stdout",
     "output_type": "stream",
     "text": [
      "Задача 4. С заботой о природе\n",
      "Людей в 30 секторе: 7\n",
      "Всё спокойно.\n",
      "Людей в 31 секторе: 11\n",
      "Нарушение! Слишком много людей в секторе!\n",
      "Людей в 32 секторе: 100\n",
      "Нарушение! Слишком много людей в секторе!\n",
      "Людей в 33 секторе: 10\n",
      "Всё спокойно.\n",
      "Людей в 34 секторе: 0\n",
      "Всё спокойно.\n",
      "Людей в 35 секторе: 1\n",
      "Всё спокойно.\n",
      "Количество нарушений:  2\n"
     ]
    }
   ],
   "source": [
    "print('Задача 4. С заботой о природе')\n",
    "\n",
    "count = 0\n",
    "for sect in range(30, 36):\n",
    "    n = int(input(\"Людей в \" + str(sect)+ \" секторе: \"))\n",
    "    if n > 10:\n",
    "        print(\"Нарушение! Слишком много людей в секторе!\")\n",
    "        count += 1\n",
    "    else:\n",
    "        print(\"Всё спокойно.\")\n",
    "        \n",
    "print(\"Количество нарушений:\", count)"
   ]
  },
  {
   "cell_type": "code",
   "execution_count": null,
   "id": "3b1150c0",
   "metadata": {},
   "outputs": [],
   "source": []
  },
  {
   "cell_type": "code",
   "execution_count": 16,
   "id": "497e95d8",
   "metadata": {},
   "outputs": [
    {
     "name": "stdout",
     "output_type": "stream",
     "text": [
      "Задача 5. Факториал\n",
      "Введите число: 7\n",
      "Факториал числа 7 равен 5040\n"
     ]
    }
   ],
   "source": [
    "print('Задача 5. Факториал')\n",
    "\n",
    "n = int(input(\"Введите число: \"))\n",
    "m = n\n",
    "\n",
    "for i in range(1, n):\n",
    "    n *= i\n",
    "print(\"Факториал числа \" + str(m) + \" равен \"+ str(n))"
   ]
  },
  {
   "cell_type": "code",
   "execution_count": null,
   "id": "aafc3b7f",
   "metadata": {},
   "outputs": [],
   "source": []
  },
  {
   "cell_type": "code",
   "execution_count": 26,
   "id": "cc455d4b",
   "metadata": {},
   "outputs": [
    {
     "name": "stdout",
     "output_type": "stream",
     "text": [
      "5\n",
      "3\n",
      "4\n",
      "5\n",
      "5\n",
      "5\n",
      "Сегодня отличников больше.\n"
     ]
    }
   ],
   "source": [
    "N = int(input())\n",
    "three = 0\n",
    "four = 0\n",
    "five = 0\n",
    "for i in range(N):\n",
    "    mark = int(input())\n",
    "    if mark == 3:\n",
    "        three += 1\n",
    "    elif mark == 4:\n",
    "        four += 1\n",
    "    elif mark == 5:\n",
    "        five += 1\n",
    "        \n",
    "test = max(three, four, five)\n",
    "if test == three:\n",
    "    print(\"Сегодня троечников больше.\")\n",
    "elif test == four:\n",
    "    print(\"Сегодня хорошистов больше.\")\n",
    "elif test == five:\n",
    "    print(\"Сегодня отличников больше.\")"
   ]
  },
  {
   "cell_type": "code",
   "execution_count": 29,
   "id": "dd5d45fc",
   "metadata": {},
   "outputs": [
    {
     "name": "stdout",
     "output_type": "stream",
     "text": [
      "Задача 7. Отрезок\n",
      "1\n",
      "10\n",
      "6.0\n"
     ]
    }
   ],
   "source": [
    "print('Задача 7. Отрезок')\n",
    "\n",
    "a = int(input())\n",
    "b = int(input())\n",
    "\n",
    "summ = 0\n",
    "count = 0\n",
    "for num in range(a, b+1):\n",
    "    if num % 3 == 0:\n",
    "        summ += num\n",
    "        count += 1\n",
    "        \n",
    "print(summ/count)"
   ]
  },
  {
   "cell_type": "code",
   "execution_count": 35,
   "id": "0a03560a",
   "metadata": {},
   "outputs": [
    {
     "name": "stdout",
     "output_type": "stream",
     "text": [
      "Задача 8. Замечательные числа\n",
      "15\n",
      "24\n"
     ]
    }
   ],
   "source": [
    "print('Задача 8. Замечательные числа')\n",
    "\n",
    "for num in range(10, 100):\n",
    "    if num == 3*(num//10)*(num%10):\n",
    "        print(num)"
   ]
  },
  {
   "cell_type": "code",
   "execution_count": null,
   "id": "a70d9220",
   "metadata": {},
   "outputs": [],
   "source": []
  },
  {
   "cell_type": "code",
   "execution_count": 40,
   "id": "6db19f11",
   "metadata": {},
   "outputs": [
    {
     "name": "stdout",
     "output_type": "stream",
     "text": [
      "Задача 9. ...Теперь можно посчитать и свою\n",
      "1\n",
      "2\n",
      "3\n",
      "4\n",
      "5\n",
      "6\n",
      "7\n",
      "8\n",
      "9\n",
      "10\n",
      "Да\n"
     ]
    }
   ],
   "source": [
    "print('Задача 9. ...Теперь можно посчитать и свою')\n",
    "\n",
    "ordered = True\n",
    "prev = int(input())\n",
    "\n",
    "for i in range(9):\n",
    "    num = int(input())\n",
    "    if num <= prev:\n",
    "        ordered = False\n",
    "        break\n",
    "    prev = num\n",
    "    \n",
    "print(\"Да\") if ordered else print(\"Нет\")"
   ]
  },
  {
   "cell_type": "code",
   "execution_count": null,
   "id": "32f32f0b",
   "metadata": {},
   "outputs": [],
   "source": []
  },
  {
   "cell_type": "code",
   "execution_count": 49,
   "id": "0a7bcf7c",
   "metadata": {},
   "outputs": [
    {
     "name": "stdout",
     "output_type": "stream",
     "text": [
      "Задача 10.\n",
      "5\n",
      "1\n",
      "3\n",
      "4\n",
      "5\n",
      "2\n"
     ]
    }
   ],
   "source": [
    "print('Задача 10.')\n",
    "\n",
    "N = int(input())\n",
    "\n",
    "lst_num = list()\n",
    "for i in range(N-1):\n",
    "    lst_num.append(int(input()))\n",
    "\n",
    "for i in range(1, N+1):\n",
    "    if i not in lst_num:\n",
    "        print(i)\n",
    "        break"
   ]
  },
  {
   "cell_type": "code",
   "execution_count": null,
   "id": "40676678",
   "metadata": {},
   "outputs": [],
   "source": []
  },
  {
   "cell_type": "code",
   "execution_count": null,
   "id": "e7c9e6ea",
   "metadata": {},
   "outputs": [],
   "source": []
  },
  {
   "cell_type": "code",
   "execution_count": null,
   "id": "276bdcb0",
   "metadata": {},
   "outputs": [],
   "source": []
  },
  {
   "cell_type": "code",
   "execution_count": null,
   "id": "24c956b3",
   "metadata": {},
   "outputs": [],
   "source": []
  },
  {
   "cell_type": "code",
   "execution_count": 47,
   "id": "bf240dbb",
   "metadata": {},
   "outputs": [
    {
     "data": {
      "text/plain": [
       "[45, 12]"
      ]
     },
     "execution_count": 47,
     "metadata": {},
     "output_type": "execute_result"
    }
   ],
   "source": [
    "lst_num"
   ]
  },
  {
   "cell_type": "code",
   "execution_count": null,
   "id": "830a9a9a",
   "metadata": {},
   "outputs": [],
   "source": []
  },
  {
   "cell_type": "code",
   "execution_count": null,
   "id": "501348ba",
   "metadata": {},
   "outputs": [],
   "source": []
  },
  {
   "cell_type": "code",
   "execution_count": null,
   "id": "d7cf0846",
   "metadata": {},
   "outputs": [],
   "source": []
  },
  {
   "cell_type": "code",
   "execution_count": null,
   "id": "f7e28a41",
   "metadata": {},
   "outputs": [],
   "source": []
  }
 ],
 "metadata": {
  "kernelspec": {
   "display_name": "Python 3 (ipykernel)",
   "language": "python",
   "name": "python3"
  },
  "language_info": {
   "codemirror_mode": {
    "name": "ipython",
    "version": 3
   },
   "file_extension": ".py",
   "mimetype": "text/x-python",
   "name": "python",
   "nbconvert_exporter": "python",
   "pygments_lexer": "ipython3",
   "version": "3.8.10"
  }
 },
 "nbformat": 4,
 "nbformat_minor": 5
}

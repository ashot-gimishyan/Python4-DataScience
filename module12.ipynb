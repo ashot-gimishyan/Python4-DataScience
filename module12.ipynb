{
 "cells": [
  {
   "cell_type": "code",
   "execution_count": 2,
   "id": "d2b9088c",
   "metadata": {},
   "outputs": [
    {
     "name": "stdout",
     "output_type": "stream",
     "text": [
      "Задача 1. Сумма чисел\n",
      "5\n",
      "15\n"
     ]
    }
   ],
   "source": [
    "print('Задача 1. Сумма чисел')\n",
    "\n",
    "def summa_n(n):\n",
    "    summ = 0\n",
    "    for i in range(1, n + 1):\n",
    "        summ += i\n",
    "        if i == n:\n",
    "            return summ\n",
    "\n",
    "N = int(input())\n",
    "print(summa_n(N))"
   ]
  },
  {
   "cell_type": "code",
   "execution_count": null,
   "id": "48cd74a9",
   "metadata": {},
   "outputs": [],
   "source": []
  },
  {
   "cell_type": "code",
   "execution_count": 11,
   "id": "66257f9f",
   "metadata": {},
   "outputs": [
    {
     "name": "stdout",
     "output_type": "stream",
     "text": [
      "Задача 2. Функция в функции\n",
      "-4\n",
      "Отрицательное\n"
     ]
    }
   ],
   "source": [
    "print('Задача 2. Функция в функции')\n",
    "\n",
    "    \n",
    "def test():\n",
    "    def positive():\n",
    "        print(\"Положительное\")\n",
    "    \n",
    "    def negative():\n",
    "        print(\"Отрицательное\")\n",
    "    \n",
    "    n = int(input())\n",
    "    if n> 0:\n",
    "        positive()\n",
    "    elif n < 0:\n",
    "        negative()\n",
    "        \n",
    "\n",
    "test()"
   ]
  },
  {
   "cell_type": "code",
   "execution_count": 5,
   "id": "679b3174",
   "metadata": {},
   "outputs": [
    {
     "name": "stdout",
     "output_type": "stream",
     "text": [
      "Задача 3. Апгрейд калькулятора\n",
      "Введите целое число: 859\n",
      "\n",
      "                1. Вывести сумму цифр.\n",
      "                2. Вывести максимальную цифру.\n",
      "                3. Вывести минимальную цифру.\n",
      "                Введите действие: 3\n",
      "5\n"
     ]
    }
   ],
   "source": [
    "print('Задача 3. Апгрейд калькулятора')\n",
    "\n",
    "def foo(n):\n",
    "    lst = list()\n",
    "    while n != 0:\n",
    "        lst.append(n%10)\n",
    "        n //= 10\n",
    "        \n",
    "    return lst\n",
    "\n",
    "n = int(input(\"Введите целое число: \"))\n",
    "\n",
    "do = 0\n",
    "lst = [1,2,3]\n",
    "\n",
    "while do not in lst:\n",
    "    do = int(input('''\n",
    "                1. Вывести сумму цифр.\n",
    "                2. Вывести максимальную цифру.\n",
    "                3. Вывести минимальную цифру.\n",
    "                Введите действие: '''))\n",
    "\n",
    "if do == 1:\n",
    "    print(sum(foo(n)))\n",
    "elif do == 2:\n",
    "    print(max(foo(n)))\n",
    "else:\n",
    "    print(min(foo(n)))"
   ]
  },
  {
   "cell_type": "code",
   "execution_count": null,
   "id": "4881e61e",
   "metadata": {},
   "outputs": [],
   "source": []
  },
  {
   "cell_type": "code",
   "execution_count": null,
   "id": "d41d80df",
   "metadata": {},
   "outputs": [
    {
     "name": "stdout",
     "output_type": "stream",
     "text": [
      "Задача 4. Число наоборот\n",
      "Введите число: 1230\n",
      "Число наоборот: 321\n"
     ]
    }
   ],
   "source": [
    "print('Задача 4. Число наоборот')\n",
    "\n",
    "\n",
    "def reverse(num):\n",
    "    \n",
    "    s = str(num)\n",
    "    s = s[::-1]\n",
    "    s = list(s)\n",
    "    \n",
    "    while s[0] == '0':\n",
    "        s.pop(0)\n",
    "        \n",
    "    return ''.join(s)\n",
    "\n",
    "while True:\n",
    "    n = int(input('Введите число: '))\n",
    "    if n == 0:\n",
    "        print(\"Программа завершена!\")\n",
    "        break\n",
    "        \n",
    "    print(\"Число наоборот:\", reverse(n))\n",
    "        \n",
    "    "
   ]
  },
  {
   "cell_type": "code",
   "execution_count": null,
   "id": "1946931e",
   "metadata": {},
   "outputs": [],
   "source": []
  },
  {
   "cell_type": "code",
   "execution_count": 4,
   "id": "43c7fcbc",
   "metadata": {},
   "outputs": [
    {
     "name": "stdout",
     "output_type": "stream",
     "text": [
      "Задача 5. Текстовый редактор\n",
      "Введите текст: 100 лет в обед\n",
      "Какую цифру ищем? 0\n",
      "Какую букву ищём? л\n",
      "Количество цифр 0: 2\n",
      "Количество букв л: 1\n"
     ]
    }
   ],
   "source": [
    "print('Задача 5. Текстовый редактор')\n",
    "\n",
    "def answer(t,d,a):\n",
    "    t = list(t)\n",
    "    ans = []\n",
    "    ans.append(t.count(str(d)))\n",
    "    ans.append(t.count(a))\n",
    "    return ans\n",
    "\n",
    "text = input('Введите текст: ')\n",
    "digit = int(input('Какую цифру ищем? '))\n",
    "alpha = input('Какую букву ищём? ')\n",
    "\n",
    "\n",
    "lst = answer(text,digit,alpha)\n",
    "\n",
    "print('Количество цифр ' + str(digit) + ':', lst[0])\n",
    "print('Количество букв ' + alpha + ':', lst[1])"
   ]
  },
  {
   "cell_type": "code",
   "execution_count": null,
   "id": "5e1eeeab",
   "metadata": {},
   "outputs": [],
   "source": []
  },
  {
   "cell_type": "code",
   "execution_count": null,
   "id": "1b6c1ca3",
   "metadata": {},
   "outputs": [],
   "source": []
  },
  {
   "cell_type": "code",
   "execution_count": null,
   "id": "11230ebf",
   "metadata": {},
   "outputs": [],
   "source": []
  },
  {
   "cell_type": "code",
   "execution_count": 6,
   "id": "e767f5f4",
   "metadata": {},
   "outputs": [
    {
     "name": "stdout",
     "output_type": "stream",
     "text": [
      "Задача 6. Монетка\n",
      "x: 0.5\n",
      "y: 0.5\n",
      "Монетка где-то рядом\n"
     ]
    }
   ],
   "source": [
    "print('Задача 6. Монетка')\n",
    "\n",
    "\n",
    "\n",
    "def Find():\n",
    "    x = float(input('x: '))\n",
    "    y = float(input('y: '))\n",
    "\n",
    "    if (-1 <= x <= 1) and (-1 <= y <= 1):\n",
    "        print('Монетка где-то рядом')\n",
    "    else:\n",
    "        print('Монетки в области нет')\n",
    "\n",
    "Find()\n",
    "\n"
   ]
  },
  {
   "cell_type": "code",
   "execution_count": null,
   "id": "867165c6",
   "metadata": {},
   "outputs": [],
   "source": []
  },
  {
   "cell_type": "code",
   "execution_count": 9,
   "id": "78965ac5",
   "metadata": {},
   "outputs": [
    {
     "name": "stdout",
     "output_type": "stream",
     "text": [
      "Задача 7. Опять?\n",
      "4\n",
      "5\n",
      "4\n"
     ]
    }
   ],
   "source": [
    "print('Задача 7. Опять?')\n",
    "\n",
    "def FindMin(a, b):\n",
    "    a = int(input())\n",
    "    b = int(input())\n",
    "    return (a<b) * a + (a>= b) * b\n",
    "\n",
    "print(FindMin(a,b))"
   ]
  },
  {
   "cell_type": "code",
   "execution_count": null,
   "id": "2fb9458d",
   "metadata": {},
   "outputs": [],
   "source": []
  },
  {
   "cell_type": "code",
   "execution_count": null,
   "id": "a7e83c1d",
   "metadata": {},
   "outputs": [],
   "source": []
  },
  {
   "cell_type": "code",
   "execution_count": 16,
   "id": "473b5c67",
   "metadata": {},
   "outputs": [
    {
     "name": "stdout",
     "output_type": "stream",
     "text": [
      "Задача 8. НОД\n",
      "4\n",
      "6\n",
      "2\n"
     ]
    }
   ],
   "source": [
    "print('Задача 8. НОД')\n",
    "\n",
    "# Способ 1: Алгоритм Евклида\n",
    "\n",
    "# Способ 2: !(Алгоритм Евклида)\n",
    "\n",
    "def GCD(a,b):\n",
    "    a_div = list()\n",
    "    b_div = list()\n",
    "    \n",
    "    i = 1\n",
    "    # добавляем все делители a -> a_div\n",
    "    while i <= int(a**0.5):\n",
    "        if a % i == 0:\n",
    "            a_div.append(i)\n",
    "            a_div.append(a//i)\n",
    "        i+=1\n",
    "        \n",
    "    i = 1\n",
    "    # добавляем все делители b -> b_div\n",
    "    while i <= int(b**0.5):\n",
    "        if b % i == 0:\n",
    "            b_div.append(i)\n",
    "            b_div.append(b//i)\n",
    "        i+=1\n",
    "        \n",
    "    a_div = set(a_div)\n",
    "    b_div = set(b_div)\n",
    "    \n",
    "    # найдем пересечение множеств\n",
    "    # то есть общие делители\n",
    "    res = a_div.intersection(b_div)\n",
    "    res = list(res)\n",
    "    \n",
    "    # НОД = max(res)\n",
    "    return max(res)\n",
    "    \n",
    "        \n",
    "n = int(input())\n",
    "m = int(input())\n",
    "\n",
    "\n",
    "print(GCD(n,m))\n"
   ]
  },
  {
   "cell_type": "code",
   "execution_count": null,
   "id": "1b58879c",
   "metadata": {},
   "outputs": [],
   "source": []
  },
  {
   "cell_type": "code",
   "execution_count": null,
   "id": "d6384f56",
   "metadata": {},
   "outputs": [],
   "source": []
  },
  {
   "cell_type": "code",
   "execution_count": 2,
   "id": "1b796de6",
   "metadata": {},
   "outputs": [
    {
     "name": "stdout",
     "output_type": "stream",
     "text": [
      "Задача 9. Недоделка\n",
      "1.\"Камень, ножницы, бумага\"\n",
      "2.\"Угадай число\"1\n",
      "Камень, ножницы или бумага: бу\n",
      "\n",
      "Ваш выбор: бу, компьютер выбрал бумага.\n",
      "\n",
      "Допустимы только камень, ножницы и бумага\n",
      "Завершить игру? (да | нет) нет\n",
      "Камень, ножницы или бумага: бумага\n",
      "\n",
      "Ваш выбор: бумага, компьютер выбрал камень.\n",
      "\n",
      "Вы победили!\n",
      "Завершить игру? (да | нет) да\n"
     ]
    }
   ],
   "source": [
    "print('Задача 9. Недоделка')\n",
    "\n",
    "\n",
    "from random import randint\n",
    "\n",
    "\n",
    "def rock_paper_scissors(): #\"Камень, ножницы, бумага\"\n",
    "    while True:\n",
    "        user = input(\"Камень, ножницы или бумага: \")\n",
    "        \n",
    "        lst = [\"камень\", \"бумага\", \"ножницы\"]\n",
    "        comp = lst[randint(0,2)]\n",
    "        print(f\"\\nВаш выбор: {user}, компьютер выбрал {comp}.\\n\")\n",
    "        \n",
    "        user = user.lower()\n",
    "        if user == comp:\n",
    "            print(\"Ничья!\")\n",
    "        elif user == \"камень\":\n",
    "            if comp == \"ножницы\":\n",
    "                print(\"Вы победили!\")\n",
    "            else:\n",
    "                print(\"Вы проиграли.\")\n",
    "        elif user == \"бумага\":\n",
    "            if comp == \"камень\":\n",
    "                print(\"Вы победили!\")\n",
    "            else:\n",
    "                print(\"Вы проиграли.\")\n",
    "        elif user == \"ножницы\":\n",
    "            if comp == \"бумага\":\n",
    "                print(\"Вы победили!\")\n",
    "            else:\n",
    "                print(\"Вы проиграли.\")\n",
    "        else:\n",
    "            print(\"Допустимы только камень, ножницы и бумага\")\n",
    "                     \n",
    "        q = input(\"Завершить игру? (да | нет) \")\n",
    "        if q == \"да\":\n",
    "            return\n",
    "\n",
    "        \n",
    "def guess_the_number(): # \"Угадай число\"\n",
    "    \n",
    "    stop = randint(50,100)\n",
    "    rint = randint(1, stop)\n",
    "    \n",
    "    tr_y = 0\n",
    "    while True:\n",
    "        tr_y += 1\n",
    "        ans = int(input('Число от 1 до {} '.format(stop)))\n",
    "        if ans < rint:\n",
    "            print('Число меньше чем нужно. Попробуйте еще раз! ')\n",
    "        if ans > rint:\n",
    "            print('Число больше чем нужно. Попробуйте еще раз! ')\n",
    "        if ans == rint:\n",
    "            print(rint, 'Вы угадали! Число попыток: ', tr_y)\n",
    "            return\n",
    "\n",
    "        \n",
    "def mainMenu():\n",
    "    game = int(input('1.\"Камень, ножницы, бумага\"\\n2.\"Угадай число\"'))\n",
    "    if game == 1:\n",
    "        rock_paper_scissors()\n",
    "    else:\n",
    "        guess_the_number()\n",
    "\n",
    "        \n",
    "mainMenu()"
   ]
  },
  {
   "cell_type": "code",
   "execution_count": null,
   "id": "566276fa",
   "metadata": {},
   "outputs": [],
   "source": []
  }
 ],
 "metadata": {
  "kernelspec": {
   "display_name": "Python 3 (ipykernel)",
   "language": "python",
   "name": "python3"
  },
  "language_info": {
   "codemirror_mode": {
    "name": "ipython",
    "version": 3
   },
   "file_extension": ".py",
   "mimetype": "text/x-python",
   "name": "python",
   "nbconvert_exporter": "python",
   "pygments_lexer": "ipython3",
   "version": "3.9.7"
  }
 },
 "nbformat": 4,
 "nbformat_minor": 5
}

{
 "cells": [
  {
   "cell_type": "markdown",
   "id": "84d45fc2",
   "metadata": {},
   "source": [
    "# ashot-gimishyan aka reimash\n",
    "## 09/07/2022\n"
   ]
  },
  {
   "cell_type": "code",
   "execution_count": null,
   "id": "558cffd9",
   "metadata": {},
   "outputs": [],
   "source": []
  },
  {
   "cell_type": "code",
   "execution_count": null,
   "id": "73a3e27f",
   "metadata": {},
   "outputs": [],
   "source": []
  },
  {
   "cell_type": "code",
   "execution_count": null,
   "id": "fdfa38c4",
   "metadata": {},
   "outputs": [],
   "source": []
  },
  {
   "cell_type": "code",
   "execution_count": 69,
   "id": "67fed32a",
   "metadata": {},
   "outputs": [
    {
     "name": "stdout",
     "output_type": "stream",
     "text": [
      "Задача 1. Конвертация\n",
      "100000\n",
      "7608750.0\n"
     ]
    }
   ],
   "source": [
    "print('Задача 1. Конвертация')\n",
    "\n",
    "euro = float(input())\n",
    "usd = 1.25 * euro\n",
    "rub = 60.87 * usd\n",
    "\n",
    "print(rub)"
   ]
  },
  {
   "cell_type": "code",
   "execution_count": null,
   "id": "f4d79673",
   "metadata": {},
   "outputs": [],
   "source": []
  },
  {
   "cell_type": "code",
   "execution_count": null,
   "id": "76a4bc10",
   "metadata": {},
   "outputs": [],
   "source": []
  },
  {
   "cell_type": "code",
   "execution_count": 11,
   "id": "f4c63ff1",
   "metadata": {},
   "outputs": [
    {
     "name": "stdout",
     "output_type": "stream",
     "text": [
      "Задача 2. Грубая математика\n",
      "Введите кол-во чисел: 2\n",
      "Введите число: 0\n",
      "x = 0 exp(x)= 1.0\n",
      "Введите число: 1\n",
      "x = 1 log(x)= 0.0\n"
     ]
    }
   ],
   "source": [
    "print('Задача 2. Грубая математика')\n",
    "\n",
    "import math\n",
    "\n",
    "N = int(input(\"Введите кол-во чисел: \"))\n",
    "\n",
    "for i in range(N):\n",
    "    x = float(input(\"Введите число: \"))\n",
    "    if x > 0:\n",
    "        x = math.ceil(x)\n",
    "        print(\"x =\", x, \"log(x)=\", math.log(x))\n",
    "    elif x < 0:\n",
    "        x = math.floor(x)\n",
    "        print(\"x =\", x, \"exp(x)=\", math.exp(x))"
   ]
  },
  {
   "cell_type": "code",
   "execution_count": 27,
   "id": "8a70cad7",
   "metadata": {},
   "outputs": [
    {
     "name": "stdout",
     "output_type": "stream",
     "text": [
      "Задача 3. Убийца Steam\n",
      "Укажите размер файла для скачивания: 10000\n",
      "Какова скорость вашего соединения? 1\n",
      "Прошло 1 сек. Скачано 1 из 10000 Мб (1%)\n",
      "Прошло 2 сек. Скачано 2 из 10000 Мб (1%)\n",
      "Прошло 3 сек. Скачано 3 из 10000 Мб (1%)\n",
      "Прошло 4 сек. Скачано 4 из 10000 Мб (1%)\n",
      "Прошло 5 сек. Скачано 5 из 10000 Мб (1%)\n",
      "Прошло 6 сек. Скачано 6 из 10000 Мб (1%)\n",
      "Прошло 7 сек. Скачано 7 из 10000 Мб (1%)\n",
      "Прошло 8 сек. Скачано 8 из 10000 Мб (1%)\n",
      "Прошло 9 сек. Скачано 9 из 10000 Мб (1%)\n",
      "Прошло 10 сек. Скачано 10 из 10000 Мб (1%)\n"
     ]
    },
    {
     "ename": "KeyboardInterrupt",
     "evalue": "",
     "output_type": "error",
     "traceback": [
      "\u001b[0;31m---------------------------------------------------------------------------\u001b[0m",
      "\u001b[0;31mKeyboardInterrupt\u001b[0m                         Traceback (most recent call last)",
      "\u001b[0;32m/tmp/ipykernel_21320/1556586532.py\u001b[0m in \u001b[0;36m<module>\u001b[0;34m\u001b[0m\n\u001b[1;32m     40\u001b[0m \u001b[0mdownload\u001b[0m \u001b[0;34m=\u001b[0m \u001b[0;36m0\u001b[0m\u001b[0;34m\u001b[0m\u001b[0;34m\u001b[0m\u001b[0m\n\u001b[1;32m     41\u001b[0m \u001b[0;32mwhile\u001b[0m \u001b[0mdownload\u001b[0m \u001b[0;34m<\u001b[0m \u001b[0msize\u001b[0m\u001b[0;34m:\u001b[0m\u001b[0;34m\u001b[0m\u001b[0;34m\u001b[0m\u001b[0m\n\u001b[0;32m---> 42\u001b[0;31m     \u001b[0msleep\u001b[0m\u001b[0;34m(\u001b[0m\u001b[0;36m1\u001b[0m\u001b[0;34m)\u001b[0m\u001b[0;34m\u001b[0m\u001b[0;34m\u001b[0m\u001b[0m\n\u001b[0m\u001b[1;32m     43\u001b[0m     \u001b[0mi\u001b[0m\u001b[0;34m+=\u001b[0m\u001b[0;36m1\u001b[0m\u001b[0;34m\u001b[0m\u001b[0;34m\u001b[0m\u001b[0m\n\u001b[1;32m     44\u001b[0m     \u001b[0mdownload\u001b[0m \u001b[0;34m+=\u001b[0m \u001b[0mspeed\u001b[0m\u001b[0;34m\u001b[0m\u001b[0;34m\u001b[0m\u001b[0m\n",
      "\u001b[0;31mKeyboardInterrupt\u001b[0m: "
     ]
    }
   ],
   "source": [
    "print('Задача 3. Убийца Steam')\n",
    "\n",
    "\n",
    "from time import sleep\n",
    "from math import ceil\n",
    "\n",
    "size = float(input(\"Укажите размер файла для скачивания: \"))\n",
    "speed = float(input(\"Какова скорость вашего соединения? \"))\n",
    "\n",
    "i = 0\n",
    "download = 0\n",
    "while download < size:\n",
    "    sleep(1)\n",
    "    i+=1\n",
    "    download += speed\n",
    "    if download > size:\n",
    "        download = size\n",
    "    print(\"Прошло\", i, \"сек. Скачано\", int(download), \"из\", int(size) , \"Мб\", \"(\" + str(math.ceil(100*download/size)) +\"%)\")"
   ]
  },
  {
   "cell_type": "code",
   "execution_count": 33,
   "id": "893d47ef",
   "metadata": {},
   "outputs": [
    {
     "name": "stdout",
     "output_type": "stream",
     "text": [
      "Задача 4. Первая цифра\n",
      "45.36\n",
      "3\n"
     ]
    }
   ],
   "source": [
    "print('Задача 4. Первая цифра')\n",
    "\n",
    "\n",
    "print((int(float(input()) * 10)) % 10)"
   ]
  },
  {
   "cell_type": "code",
   "execution_count": null,
   "id": "f971c426",
   "metadata": {},
   "outputs": [],
   "source": []
  },
  {
   "cell_type": "code",
   "execution_count": 41,
   "id": "a8a47dec",
   "metadata": {},
   "outputs": [
    {
     "name": "stdout",
     "output_type": "stream",
     "text": [
      "Задача 5. Вот это объёмы!\n",
      "Введите радиус случайной планеты: 6371\n",
      "Объём планеты Земля больше в 1.0 раз\n"
     ]
    }
   ],
   "source": [
    "print('Задача 5. Вот это объёмы!')\n",
    "\n",
    "from math import pi\n",
    "\n",
    "earth_vol = 10.8321 * 10 ** 11\n",
    "\n",
    "\n",
    "R = float(input(\"Введите радиус случайной планеты: \"))\n",
    "random_vol = 4/3 * pi * R ** 3\n",
    "\n",
    "if earth_vol > random_vol:\n",
    "    print(\"Объём планеты Земля больше в\", round(earth_vol / random_vol, 3), \"раз\")\n",
    "    \n",
    "elif earth_vol < random_vol:\n",
    "        print(\"Объём планеты Земля меньше в\", round(1 / (earth_vol / random_vol),3), \"раз\")\n",
    "        \n",
    "#else:\n",
    "#    print(\"Объём равны :)\")\n"
   ]
  },
  {
   "cell_type": "code",
   "execution_count": null,
   "id": "89d73e2c",
   "metadata": {},
   "outputs": [],
   "source": []
  },
  {
   "cell_type": "code",
   "execution_count": null,
   "id": "7870e6a1",
   "metadata": {},
   "outputs": [],
   "source": []
  },
  {
   "cell_type": "code",
   "execution_count": null,
   "id": "fdd31ac9",
   "metadata": {},
   "outputs": [],
   "source": []
  },
  {
   "cell_type": "code",
   "execution_count": null,
   "id": "247685e6",
   "metadata": {},
   "outputs": [],
   "source": []
  },
  {
   "cell_type": "code",
   "execution_count": null,
   "id": "1feafe1c",
   "metadata": {},
   "outputs": [],
   "source": []
  },
  {
   "cell_type": "code",
   "execution_count": 35,
   "id": "8ab4efed",
   "metadata": {},
   "outputs": [
    {
     "data": {
      "text/plain": [
       "3.141592653589793"
      ]
     },
     "execution_count": 35,
     "metadata": {},
     "output_type": "execute_result"
    }
   ],
   "source": [
    "pi"
   ]
  },
  {
   "cell_type": "code",
   "execution_count": 56,
   "id": "9bce4f14",
   "metadata": {},
   "outputs": [
    {
     "name": "stdout",
     "output_type": "stream",
     "text": [
      "Задача 6. Метеостанция\n",
      "Нижняя граница: 0\n",
      "Верхняя граница: 50\n",
      "Шаг: 20\n",
      "Вывод:\n",
      "C\tF\n",
      "\n",
      "0 \t 32\n",
      "20 \t 68\n",
      "40 \t 104\n",
      "50 \t 122\n"
     ]
    }
   ],
   "source": [
    "print('Задача 6. Метеостанция')\n",
    "\n",
    "\n",
    "start = float(input(\"Нижняя граница: \"))\n",
    "stop = float(input(\"Верхняя граница: \"))\n",
    "step = float(input(\"Шаг: \"))\n",
    "\n",
    "print(\"Вывод:\\nC\\tF\\n\")\n",
    "\n",
    "i = start - step\n",
    "while i < stop:\n",
    "    i+=step\n",
    "    C = i\n",
    "    if C > stop:\n",
    "        C = stop\n",
    "    F = 32 + C*1.8\n",
    "    print(int(C), '\\t', int(F))\n",
    "    \n"
   ]
  },
  {
   "cell_type": "code",
   "execution_count": null,
   "id": "5eeae565",
   "metadata": {},
   "outputs": [],
   "source": []
  },
  {
   "cell_type": "code",
   "execution_count": null,
   "id": "fd9463b9",
   "metadata": {},
   "outputs": [],
   "source": []
  },
  {
   "cell_type": "code",
   "execution_count": null,
   "id": "8c4d2656",
   "metadata": {},
   "outputs": [],
   "source": []
  },
  {
   "cell_type": "code",
   "execution_count": null,
   "id": "25f3f878",
   "metadata": {},
   "outputs": [],
   "source": []
  },
  {
   "cell_type": "code",
   "execution_count": null,
   "id": "d5154fb7",
   "metadata": {},
   "outputs": [],
   "source": []
  },
  {
   "cell_type": "code",
   "execution_count": null,
   "id": "30b33bfb",
   "metadata": {},
   "outputs": [],
   "source": []
  },
  {
   "cell_type": "code",
   "execution_count": null,
   "id": "dea2e8c0",
   "metadata": {},
   "outputs": [],
   "source": []
  },
  {
   "cell_type": "code",
   "execution_count": null,
   "id": "945af423",
   "metadata": {},
   "outputs": [],
   "source": []
  },
  {
   "cell_type": "code",
   "execution_count": null,
   "id": "3324bc26",
   "metadata": {},
   "outputs": [],
   "source": []
  },
  {
   "cell_type": "code",
   "execution_count": null,
   "id": "2d679011",
   "metadata": {},
   "outputs": [],
   "source": []
  },
  {
   "cell_type": "code",
   "execution_count": null,
   "id": "0a567a58",
   "metadata": {},
   "outputs": [],
   "source": []
  },
  {
   "cell_type": "code",
   "execution_count": null,
   "id": "4aa14435",
   "metadata": {},
   "outputs": [],
   "source": []
  },
  {
   "cell_type": "code",
   "execution_count": null,
   "id": "960921be",
   "metadata": {},
   "outputs": [],
   "source": []
  },
  {
   "cell_type": "code",
   "execution_count": null,
   "id": "4a9770b9",
   "metadata": {},
   "outputs": [],
   "source": []
  },
  {
   "cell_type": "code",
   "execution_count": 59,
   "id": "bc979173",
   "metadata": {},
   "outputs": [
    {
     "name": "stdout",
     "output_type": "stream",
     "text": [
      "Задача 7. Ход конём\n",
      "Введите местоположение коня:\n",
      "4\n",
      "5\n",
      "Введите местоположение точки на доске:\n",
      "5\n",
      "5\n",
      "Конь в клетке (40, 50) .Точка в клетке (50, 50) .\n",
      "Да, конь может ходить в эту точку.\n"
     ]
    }
   ],
   "source": [
    "print('Задача 7. Ход конём')\n",
    "\n",
    "\n",
    "print(\"Введите местоположение коня:\")\n",
    "x = float(input())\n",
    "y = float(input())\n",
    "\n",
    "print(\"Введите местоположение точки на доске:\")\n",
    "bx = float(input(''))\n",
    "by = float(input(''))\n",
    "\n",
    "xS = int(x * 10)\n",
    "yS = int(y * 10)\n",
    "bxS = int(bx * 10)\n",
    "byS = int(by * 10)\n",
    "\n",
    "print('Конь в клетке', (xS, yS), '.Точка в клетке', (bxS, byS),'.')\n",
    "if abs((x-bx) * (y-by)) == 2:\n",
    "    print('Нет, конь не может ходить в эту точку.')\n",
    "else:\n",
    "    print('Да, конь может ходить в эту точку.')\n"
   ]
  },
  {
   "cell_type": "code",
   "execution_count": null,
   "id": "21762b1a",
   "metadata": {},
   "outputs": [],
   "source": []
  },
  {
   "cell_type": "code",
   "execution_count": null,
   "id": "94408254",
   "metadata": {},
   "outputs": [],
   "source": []
  },
  {
   "cell_type": "code",
   "execution_count": 61,
   "id": "01f8dfef",
   "metadata": {},
   "outputs": [
    {
     "name": "stdout",
     "output_type": "stream",
     "text": [
      "Задача 8. Часы\n",
      "Угол поворота часовой стрелки: 20\n",
      "240.0\n"
     ]
    }
   ],
   "source": [
    "print('Задача 8. Часы')\n",
    ".\n",
    "alpha = float(input('Угол поворота часовой стрелки: '))\n",
    "print((alpha % 30) * 12)\n"
   ]
  },
  {
   "cell_type": "code",
   "execution_count": null,
   "id": "9914866c",
   "metadata": {},
   "outputs": [],
   "source": []
  },
  {
   "cell_type": "code",
   "execution_count": 64,
   "id": "2d43fa53",
   "metadata": {},
   "outputs": [
    {
     "name": "stdout",
     "output_type": "stream",
     "text": [
      "Задача 9. Уравнение\n",
      "1\n",
      "-4\n",
      "4\n",
      "x_0 = 2.0\n"
     ]
    }
   ],
   "source": [
    "print('Задача 9. Уравнение')\n",
    "\n",
    "from math import sqrt\n",
    "\n",
    "a = float(input())\n",
    "b = float(input())\n",
    "c = float(input())\n",
    "\n",
    "D = b*b - 4*a*c\n",
    "\n",
    "if D < 0:\n",
    "    print(\"Нет корней\")\n",
    "    \n",
    "elif D == 0:\n",
    "    print('x_0 =', -b/2*a )\n",
    "    \n",
    "else:\n",
    "    x_1 = (-b-sqrt(D))/(2*a)\n",
    "    x_2 = (-b+sqrt(D))/(2*a)\n",
    "    \n",
    "    if x_1 > x_2:\n",
    "        print(x_2, x_1)\n",
    "        \n",
    "    else:\n",
    "        print(x_1, x_2)"
   ]
  },
  {
   "cell_type": "code",
   "execution_count": null,
   "id": "023d217d",
   "metadata": {},
   "outputs": [],
   "source": []
  },
  {
   "cell_type": "code",
   "execution_count": null,
   "id": "09867fa9",
   "metadata": {},
   "outputs": [],
   "source": []
  },
  {
   "cell_type": "code",
   "execution_count": 66,
   "id": "b3a2e998",
   "metadata": {},
   "outputs": [
    {
     "name": "stdout",
     "output_type": "stream",
     "text": [
      "Задача 10. За что?\n",
      "-1\n",
      "0\n",
      "0\n"
     ]
    }
   ],
   "source": [
    "print('Задача 10. За что?')\n",
    "\n",
    "a = int(input()) \n",
    "b = int(input())\n",
    "\n",
    "print((a>b) * a + (a<=b) * b)"
   ]
  },
  {
   "cell_type": "code",
   "execution_count": null,
   "id": "5d9771d5",
   "metadata": {},
   "outputs": [],
   "source": []
  },
  {
   "cell_type": "code",
   "execution_count": null,
   "id": "5e4533fc",
   "metadata": {},
   "outputs": [],
   "source": []
  }
 ],
 "metadata": {
  "kernelspec": {
   "display_name": "Python 3 (ipykernel)",
   "language": "python",
   "name": "python3"
  },
  "language_info": {
   "codemirror_mode": {
    "name": "ipython",
    "version": 3
   },
   "file_extension": ".py",
   "mimetype": "text/x-python",
   "name": "python",
   "nbconvert_exporter": "python",
   "pygments_lexer": "ipython3",
   "version": "3.9.7"
  }
 },
 "nbformat": 4,
 "nbformat_minor": 5
}

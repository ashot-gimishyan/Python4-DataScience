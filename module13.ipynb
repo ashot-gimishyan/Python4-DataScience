{
 "cells": [
  {
   "cell_type": "code",
   "execution_count": 11,
   "id": "871a8f72",
   "metadata": {},
   "outputs": [
    {
     "name": "stdout",
     "output_type": "stream",
     "text": [
      "Задача 1. Урок информатики 2\n",
      "Введите число0.5\n",
      "Формат плавающей точки: x =  5.0 * 10 ** -1\n"
     ]
    }
   ],
   "source": [
    "print('Задача 1. Урок информатики 2')\n",
    "\n",
    "n = float(input('Введите число'))\n",
    "k = 0\n",
    "\n",
    "if n < 1:\n",
    "    while n < 1:\n",
    "        n*=10\n",
    "        k-= 1\n",
    "elif n >= 10:\n",
    "    while n >= 10:\n",
    "        n /= 10\n",
    "        k+=1\n",
    "        \n",
    "print('Формат плавающей точки: x = ', n, '* 10 **', k)"
   ]
  },
  {
   "cell_type": "code",
   "execution_count": null,
   "id": "00b7db87",
   "metadata": {},
   "outputs": [],
   "source": []
  },
  {
   "cell_type": "code",
   "execution_count": 15,
   "id": "6ebb2f4f",
   "metadata": {},
   "outputs": [
    {
     "name": "stdout",
     "output_type": "stream",
     "text": [
      "Задача 2. Функция максимума\n",
      "974\n",
      "-0.65652\n",
      "0.0065655\n",
      "974.0\n"
     ]
    }
   ],
   "source": [
    "print('Задача 2. Функция максимума')\n",
    "\n",
    "a = float(input())\n",
    "b = float(input())\n",
    "c = float(input())\n",
    "\n",
    "print((max(a,b) > c) * max(a,b) + (max(a,b) <= c) * c)"
   ]
  },
  {
   "cell_type": "code",
   "execution_count": null,
   "id": "a5afc716",
   "metadata": {},
   "outputs": [],
   "source": []
  },
  {
   "cell_type": "code",
   "execution_count": 19,
   "id": "02ac2700",
   "metadata": {},
   "outputs": [
    {
     "name": "stdout",
     "output_type": "stream",
     "text": [
      "Задача 3. Число наоборот 2\n",
      "Введите первое число: 102\n",
      "Введите второе число: 123\n",
      "Первое число наоборот:  201\n",
      "Второе число наоборот:  201\n",
      "Сумма:  522\n",
      "Сумма наоборот:  225\n"
     ]
    }
   ],
   "source": [
    "print('Задача 3. Число наоборот 2')\n",
    "\n",
    "a = int(input('Введите первое число: '))\n",
    "b = int(input('Введите второе число: '))\n",
    "\n",
    "print('Первое число наоборот: ', str(a)[::-1])\n",
    "print('Второе число наоборот: ', str(a)[::-1])\n",
    "\n",
    "print('Сумма: ', int(str(a)[::-1]) + int(str(b)[::-1]))\n",
    "print('Сумма наоборот: ', str(int(str(a)[::-1]) + int(str(b)[::-1]))[::-1])"
   ]
  },
  {
   "cell_type": "code",
   "execution_count": null,
   "id": "aedce0db",
   "metadata": {},
   "outputs": [],
   "source": []
  },
  {
   "cell_type": "code",
   "execution_count": null,
   "id": "4f52762a",
   "metadata": {},
   "outputs": [],
   "source": []
  },
  {
   "cell_type": "code",
   "execution_count": null,
   "id": "e7cd2aa0",
   "metadata": {},
   "outputs": [],
   "source": []
  },
  {
   "cell_type": "code",
   "execution_count": 26,
   "id": "0b073ff9",
   "metadata": {},
   "outputs": [
    {
     "name": "stdout",
     "output_type": "stream",
     "text": [
      "Задача 4. Урок информатики 3\n",
      "1.265e-56\n",
      "1.265 -56\n",
      "Мантисса: 1.265 \n",
      "Порядок: -56\n"
     ]
    }
   ],
   "source": [
    "print('Задача 4. Урок информатики 3')\n",
    "\n",
    "num = input()\n",
    "\n",
    "print('Мантисса:', num.split('e')[0], '\\nПорядок:', num.split('e')[1])\n",
    "\n",
    "'''\n",
    "ord_ = \"\"\n",
    "mant = \"\"\n",
    "\n",
    "flag = False\n",
    "\n",
    "for sym in num:\n",
    "    if flag is True:\n",
    "        ord_ += sym\n",
    "    elif sym != 'e':\n",
    "        mant+= sym\n",
    "    else:\n",
    "        flag = True\n",
    "        \n",
    "print(mant, ord_)\n",
    "''''"
   ]
  },
  {
   "cell_type": "code",
   "execution_count": null,
   "id": "3e1bd925",
   "metadata": {},
   "outputs": [],
   "source": []
  },
  {
   "cell_type": "code",
   "execution_count": 8,
   "id": "bb607850",
   "metadata": {},
   "outputs": [
    {
     "name": "stdout",
     "output_type": "stream",
     "text": [
      "Введите первое число: 255\n",
      "Изменённое первое число: 552\n",
      "\n",
      "Введите второе число: 6541\n",
      "Изменённое второе число: 1546\n",
      "\n",
      "Сумма чисел: 2098\n"
     ]
    }
   ],
   "source": [
    "def change(a):\n",
    "    a = list(str(a))\n",
    "    a[0], a[-1] = a[-1], a[0]\n",
    "    return int(''.join(a))\n",
    "  \n",
    "def count(n):\n",
    "    c = 0\n",
    "    while n > 0:\n",
    "        c += 1\n",
    "        n = n // 10\n",
    "    return c\n",
    "    \n",
    "first_n = int(input(\"Введите первое число: \"))\n",
    "\n",
    "if count(first_n) < 3:\n",
    "    print(\"В первом числе меньше трёх цифр.\")\n",
    "else:\n",
    "    print('Изменённое первое число:', change(first_n))\n",
    "    second_n = int(input(\"\\nВведите второе число: \"))\n",
    "\n",
    "    if count(second_n) < 4:\n",
    "        print(\"Во втором числе меньше четырёх цифр.\")\n",
    "    else:\n",
    "        print('Изменённое второе число:', change(second_n))\n",
    "        print('\\nСумма чисел:', change(first_n) + change(second_n))"
   ]
  },
  {
   "cell_type": "code",
   "execution_count": null,
   "id": "8e5376ea",
   "metadata": {},
   "outputs": [],
   "source": []
  },
  {
   "cell_type": "code",
   "execution_count": 18,
   "id": "711ac44c",
   "metadata": {},
   "outputs": [
    {
     "name": "stdout",
     "output_type": "stream",
     "text": [
      "Введите начальную амплитуду: 1\n",
      "Введите амплитуду остановки: 0.1\n",
      "\n",
      "Маятник считается остановившимся через 27 колебаний\n",
      "\n"
     ]
    }
   ],
   "source": [
    "a = int(input(\"Введите начальную амплитуду: \"))\n",
    "stop = float(input(\"Введите амплитуду остановки: \"))\n",
    "c = 0\n",
    "if a <= 0 or stop <= 0:\n",
    "    print(\"\\nОшибка ввода данных. Попробуйте еще раз! \\n\")\n",
    "else:\n",
    "    while a > stop:\n",
    "        a *= 1 - 8.4/100\n",
    "        c += 1\n",
    "print(f\"\\nМаятник считается остановившимся через {c} колебаний\\n\")\n",
    "\n"
   ]
  },
  {
   "cell_type": "code",
   "execution_count": null,
   "id": "c5117949",
   "metadata": {},
   "outputs": [],
   "source": []
  },
  {
   "cell_type": "code",
   "execution_count": null,
   "id": "d1e53d0f",
   "metadata": {},
   "outputs": [],
   "source": []
  },
  {
   "cell_type": "code",
   "execution_count": null,
   "id": "739ec502",
   "metadata": {},
   "outputs": [],
   "source": []
  },
  {
   "cell_type": "code",
   "execution_count": 3,
   "id": "7aebb657",
   "metadata": {},
   "outputs": [
    {
     "name": "stdout",
     "output_type": "stream",
     "text": [
      "Введите максимально допустимый уровень опасности: 0.01\n",
      "Приблизительная глубина безопасной кладки: 0.732421875 м\n"
     ]
    }
   ],
   "source": [
    "max_ = float(input('Введите максимально допустимый уровень опасности: '))\n",
    "\n",
    "d_to = 4\n",
    "d_from = 0\n",
    "\n",
    "d = d_from + (d_to - d_from) / 2\n",
    "danger = d ** 3 - 3 * d ** 2 - 12 * d + 10\n",
    "\n",
    "while abs(danger) > max_:\n",
    "    if danger > 0:\n",
    "        d_from = d\n",
    "    else:\n",
    "        d_to = d\n",
    "    d = d_from + (d_to - d_from) / 2\n",
    "    danger = d ** 3 - 3 * d ** 2 - 12 * d + 10\n",
    "    \n",
    "print('Приблизительная глубина безопасной кладки: ' + str(d) + ' м')\n"
   ]
  },
  {
   "cell_type": "code",
   "execution_count": null,
   "id": "d9c3c78c",
   "metadata": {},
   "outputs": [],
   "source": []
  },
  {
   "cell_type": "code",
   "execution_count": 2,
   "id": "4f91f1c1",
   "metadata": {},
   "outputs": [
    {
     "name": "stdout",
     "output_type": "stream",
     "text": [
      "Задача 8. Сумма ряда\n",
      "Введите точность: 0.001\n",
      "Введите x: 5\n",
      "Сумма ряда = 0.283625015089173\n"
     ]
    }
   ],
   "source": [
    "print('Задача 8. Сумма ряда')\n",
    "\n",
    "def factorial(n):\n",
    "    if n in [0,1]:\n",
    "        return 1\n",
    "    return factorial(n-1) * n\n",
    "\n",
    "def degree(x, n):\n",
    "    c = 1\n",
    "    for num in range (1, n + 1):\n",
    "        c *= x\n",
    "    return c\n",
    "\n",
    "precision = float(input(\"Введите точность: \"))\n",
    "x = int(input(\"Введите x: \"))\n",
    "add = 1\n",
    "res = 0\n",
    "\n",
    "n = 0\n",
    "\n",
    "while abs(add) > precision:\n",
    "    add = degree(-1, n) * (degree(x, (2 * n)) / factorial((2 * n)))\n",
    "    res += add\n",
    "    n += 1\n",
    "print(\"Сумма ряда =\", res)"
   ]
  },
  {
   "cell_type": "code",
   "execution_count": null,
   "id": "ca2433ad",
   "metadata": {},
   "outputs": [],
   "source": []
  }
 ],
 "metadata": {
  "kernelspec": {
   "display_name": "Python 3 (ipykernel)",
   "language": "python",
   "name": "python3"
  },
  "language_info": {
   "codemirror_mode": {
    "name": "ipython",
    "version": 3
   },
   "file_extension": ".py",
   "mimetype": "text/x-python",
   "name": "python",
   "nbconvert_exporter": "python",
   "pygments_lexer": "ipython3",
   "version": "3.9.7"
  }
 },
 "nbformat": 4,
 "nbformat_minor": 5
}

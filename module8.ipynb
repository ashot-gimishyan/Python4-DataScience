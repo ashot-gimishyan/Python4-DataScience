{
 "cells": [
  {
   "cell_type": "code",
   "execution_count": 6,
   "id": "c11c96cc",
   "metadata": {},
   "outputs": [
    {
     "name": "stdout",
     "output_type": "stream",
     "text": [
      "Задача 1. Космическая еда\n",
      "96\n",
      "92\n",
      "88\n",
      "84\n",
      "80\n",
      "76\n",
      "72\n",
      "68\n",
      "64\n",
      "60\n",
      "56\n",
      "52\n",
      "48\n",
      "44\n",
      "40\n",
      "36\n",
      "32\n",
      "28\n",
      "24\n",
      "20\n",
      "16\n",
      "12\n",
      "8\n",
      "4\n",
      "0\n",
      "Еда закончилась :(\n"
     ]
    }
   ],
   "source": [
    "print('Задача 1. Космическая еда')\n",
    "\n",
    "for i in range(96, -1, -4):\n",
    "    print(i)\n",
    "    \n",
    "print(\"Еда закончилась :(\")"
   ]
  },
  {
   "cell_type": "code",
   "execution_count": null,
   "id": "8984038a",
   "metadata": {},
   "outputs": [],
   "source": []
  },
  {
   "cell_type": "code",
   "execution_count": 8,
   "id": "9ef48adc",
   "metadata": {},
   "outputs": [
    {
     "name": "stdout",
     "output_type": "stream",
     "text": [
      "Задача 2. Долги\n",
      "Количество должников: 15\n",
      "Размер Вашего долга: 100\n",
      "Размер Вашего долга: 200\n",
      "Размер Вашего долга: 2545\n",
      "2845\n"
     ]
    }
   ],
   "source": [
    "print('Задача 2. Долги')\n",
    "\n",
    "N = int(input(\"Количество должников: \"))\n",
    "\n",
    "summ = 0\n",
    "for dolzhnik in range(0, N, 5):\n",
    "    debt = int(input(\"Размер Вашего долга: \"))\n",
    "    summ += debt\n",
    "print(summ)\n",
    "    "
   ]
  },
  {
   "cell_type": "code",
   "execution_count": null,
   "id": "ee121a02",
   "metadata": {},
   "outputs": [],
   "source": []
  },
  {
   "cell_type": "code",
   "execution_count": 29,
   "id": "26400b83",
   "metadata": {},
   "outputs": [
    {
     "name": "stdout",
     "output_type": "stream",
     "text": [
      "Задача 3. Таймер для микроволновых печей\n",
      "5\n",
      "0\n",
      "0\n",
      "0\n",
      "0\n",
      "0\n",
      "Ваша еда готова, осторожно горячo!\n"
     ]
    }
   ],
   "source": [
    "print('Задача 3. Таймер для микроволновых печей')\n",
    "\n",
    "reverse_timer = int(input())\n",
    "\n",
    "for sec in range(reverse_timer, 0, -1):\n",
    "    user_ans = int(input())\n",
    "    if user_ans == 1:\n",
    "        print(\"Ваша еда готова, можете забрать :)\", reverse_timer-sec+1)\n",
    "        break\n",
    "    elif user_ans == 0:\n",
    "        continue\n",
    "        \n",
    "# если break не сработал ни разу\n",
    "if reverse_timer - sec + 1 == reverse_timer:\n",
    "    print(\"Ваша еда готова, осторожно горячo!\")"
   ]
  },
  {
   "cell_type": "code",
   "execution_count": 33,
   "id": "a869f390",
   "metadata": {},
   "outputs": [
    {
     "name": "stdout",
     "output_type": "stream",
     "text": [
      "Задача 4. Отрезок\n",
      "5\n",
      "-3\n",
      "2\n",
      "1.0\n"
     ]
    }
   ],
   "source": [
    "print('Задача 4. Отрезок')\n",
    "\n",
    "a = int(input())\n",
    "b = int(input())\n",
    "c = int(input())\n",
    "step = (a < b) * 1 + (a >= b) * (-1)\n",
    "\n",
    "summa = 0\n",
    "count = 0\n",
    "# если a < b, тогда: for num in range(a,b+1, 1):\n",
    "# если a >= b, тогда: for num in range(a,b-1, -1):\n",
    "for num in range(a,b+step, step):\n",
    "    if num % c == 0:\n",
    "        summa+=num\n",
    "        count+=1\n",
    "print(summa/count)       "
   ]
  },
  {
   "cell_type": "code",
   "execution_count": null,
   "id": "78def5df",
   "metadata": {},
   "outputs": [],
   "source": []
  },
  {
   "cell_type": "code",
   "execution_count": 38,
   "id": "570325e7",
   "metadata": {},
   "outputs": [
    {
     "name": "stdout",
     "output_type": "stream",
     "text": [
      "Задача 5. Функция 2\n",
      "Введите начало отрезка: -2\n",
      "Введите конец отрезка: 2\n",
      "Введите шаг: -1\n",
      "В точке 2 функция равна 9\n",
      "В точке 1 функция равна 0\n",
      "В точке 0 функция равна 1\n",
      "В точке -1 функция равна 6\n",
      "В точке -2 функция равна 9\n"
     ]
    }
   ],
   "source": [
    "print('Задача 5. Функция 2')\n",
    "\n",
    "start = int(input(\"Введите начало отрезка: \"))\n",
    "stop = int(input(\"Введите конец отрезка: \"))\n",
    "step = int(input(\"Введите шаг: \"))\n",
    "\n",
    "flag = (step >= 0) * 1 + (step < 0) * (-1)\n",
    "for i in range(stop, start+flag, step):\n",
    "    print(\"В точке\", i, \"функция равна\", i**3 + 2*i**2 - 4*i + 1)\n"
   ]
  },
  {
   "cell_type": "code",
   "execution_count": null,
   "id": "a9686687",
   "metadata": {},
   "outputs": [],
   "source": []
  },
  {
   "cell_type": "code",
   "execution_count": 44,
   "id": "4b5509bd",
   "metadata": {},
   "outputs": [
    {
     "name": "stdout",
     "output_type": "stream",
     "text": [
      "Задача 6. Письмо\n",
      "Введите длины стороны конверта: 12\n",
      "Введите длины стороны листа письма: 49\n",
      "3\n"
     ]
    }
   ],
   "source": [
    "print('Задача 6. Письмо')\n",
    "\n",
    "cover = int(input(\"Введите длины стороны конверта: \"))\n",
    "letter = int(input(\"Введите длины стороны листа письма: \"))\n",
    "\n",
    "count = 0\n",
    "\n",
    "for i in range(cover):\n",
    "    if letter <= cover:\n",
    "        print(count)\n",
    "        break\n",
    "    else:\n",
    "        letter/=2\n",
    "        count += 1\n"
   ]
  },
  {
   "cell_type": "code",
   "execution_count": null,
   "id": "37ab7bd0",
   "metadata": {},
   "outputs": [],
   "source": []
  },
  {
   "cell_type": "code",
   "execution_count": 50,
   "id": "babfda42",
   "metadata": {},
   "outputs": [
    {
     "name": "stdout",
     "output_type": "stream",
     "text": [
      "Задача 7. Стипендия\n",
      "5000\n",
      "15000\n",
      "121958.18967206095\n"
     ]
    }
   ],
   "source": [
    "print('Задача 7. Стипендия')\n",
    "\n",
    "educational_grant = float(input())\n",
    "expenses = float(input())\n",
    "\n",
    "summ = 0\n",
    "for i in range(0,10): # 10 месяцев\n",
    "    summ += expenses\n",
    "    expenses = expenses + expenses*0.03\n",
    "\n",
    "print(summ - 10 * educational_grant )"
   ]
  },
  {
   "cell_type": "code",
   "execution_count": null,
   "id": "1ae51008",
   "metadata": {},
   "outputs": [],
   "source": []
  },
  {
   "cell_type": "code",
   "execution_count": null,
   "id": "e011401c",
   "metadata": {},
   "outputs": [
    {
     "name": "stdout",
     "output_type": "stream",
     "text": [
      "Задача 8. Сумма ряда\n",
      "500000\n"
     ]
    }
   ],
   "source": [
    "print('Задача 8. Сумма ряда')\n",
    "\n",
    "# S = 1 - 1/2 + 1/4 - 1/8 + … (-1)**N * 1/2**N \n",
    "\n",
    "N = int(input())\n",
    "\n",
    "S = 1\n",
    "for i in range(1, N):\n",
    "    if i % 2 != 0:\n",
    "        S -= 1/(2**i)\n",
    "    if i % 2 == 0:\n",
    "        S += 1/(2**i)\n",
    "print(S)"
   ]
  },
  {
   "cell_type": "code",
   "execution_count": null,
   "id": "52a832ba",
   "metadata": {},
   "outputs": [],
   "source": []
  },
  {
   "cell_type": "code",
   "execution_count": 16,
   "id": "66124bf7",
   "metadata": {},
   "outputs": [
    {
     "name": "stdout",
     "output_type": "stream",
     "text": [
      "Задача 9. Выражение\n",
      "1000\n",
      "1.0336404571505786\n"
     ]
    }
   ],
   "source": [
    "print('Задача 9. Выражение')\n",
    "\n",
    "\n",
    "# ((x-1)(x-3)(x-7)…(x-63)/\n",
    "# ((x-2)(x-4)(x-8)…(x-64))\n",
    "\n",
    "x = float(input())\n",
    "flag = False\n",
    "\n",
    "numerator = 1\n",
    "for i in range(1,64,2):\n",
    "    if i == x:\n",
    "        numerator = 0\n",
    "        break\n",
    "    numerator *= (x-i)\n",
    "    \n",
    "denominator = 1\n",
    "for i in range(2,65,2):\n",
    "    if x == i:\n",
    "        print(\"Деление на ноль !!!\")\n",
    "        flag = True\n",
    "        break\n",
    "    denominator *= (x-i)\n",
    "    \n",
    "if flag is False:\n",
    "    print(numerator/denominator)"
   ]
  },
  {
   "cell_type": "code",
   "execution_count": null,
   "id": "f28e122f",
   "metadata": {},
   "outputs": [],
   "source": []
  },
  {
   "cell_type": "code",
   "execution_count": 51,
   "id": "917a7ea6",
   "metadata": {},
   "outputs": [
    {
     "name": "stdout",
     "output_type": "stream",
     "text": [
      "Задача 10. Кинотеатр\n",
      "Введите кол-во мальчиков: 5\n",
      "Введите кол-во девочек: 3\n",
      "BGBBGBBG\n"
     ]
    }
   ],
   "source": [
    "print('Задача 10. Кинотеатр')\n",
    "\n",
    "boys = int(input('Введите кол-во мальчиков: '))\n",
    "girls = int(input('Введите кол-во девочек: '))\n",
    "answer = ''\n",
    "if (boys > 2 * girls) or (girls > 2 * boys):\n",
    "    print('Нет решения.')\n",
    "elif boys >= girls:\n",
    "    k = boys - girls\n",
    "    for bgb in range(k):\n",
    "        answer += 'BGB'\n",
    "    for bg in range(girls - k):\n",
    "        answer += 'BG'\n",
    "else:\n",
    "    k = girls - boys\n",
    "    for gbg in range(k):\n",
    "        answer += 'GBG'\n",
    "    for gb in range(boys - k):\n",
    "        answer += 'GB'\n",
    "print(answer)"
   ]
  },
  {
   "cell_type": "code",
   "execution_count": null,
   "id": "81900ed3",
   "metadata": {},
   "outputs": [],
   "source": []
  }
 ],
 "metadata": {
  "kernelspec": {
   "display_name": "Python 3 (ipykernel)",
   "language": "python",
   "name": "python3"
  },
  "language_info": {
   "codemirror_mode": {
    "name": "ipython",
    "version": 3
   },
   "file_extension": ".py",
   "mimetype": "text/x-python",
   "name": "python",
   "nbconvert_exporter": "python",
   "pygments_lexer": "ipython3",
   "version": "3.8.10"
  }
 },
 "nbformat": 4,
 "nbformat_minor": 5
}
